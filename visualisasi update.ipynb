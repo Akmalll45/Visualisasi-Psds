{
 "cells": [
  {
   "cell_type": "markdown",
   "id": "3e115852",
   "metadata": {},
   "source": [
    "# 6.1 Membuat Plot Sederhana"
   ]
  },
  {
   "cell_type": "code",
   "execution_count": null,
   "id": "0a0f906c",
   "metadata": {},
   "outputs": [],
   "source": [
    "import matplotlib.pyplot as plt\n",
    "x = [1, 2, 3, 4, 5, 6, 7, 8, 9, 10]  # Bulan\n",
    "y = [15, 23, 18, 35, 42, 38, 50, 45, 60, 55]  # Penjualan (juta rupiah)\n",
    "# Membuat plot garis\n",
    "plt.plot(x, y)\n",
    "# Menampilkan plot\n",
    "plt.show()"
   ]
  },
  {
   "cell_type": "markdown",
   "id": "ff6dc239",
   "metadata": {},
   "source": [
    "# 6.2 Mengatur Judul dan Label pada Plot"
   ]
  },
  {
   "cell_type": "code",
   "execution_count": null,
   "id": "0f74ed02",
   "metadata": {},
   "outputs": [],
   "source": [
    "# Membuat plot garis\n",
    "plt.plot(x, y)\n",
    "\n",
    "# Menambahkan judul dan label\n",
    "plt.title(\"Contoh Plot Garis\")\n",
    "plt.xlabel(\"Sumbu X\")\n",
    "plt.ylabel(\"Sumbu Y\")\n",
    "# Menampilkan plot\n",
    "plt.show()"
   ]
  },
  {
   "cell_type": "markdown",
   "id": "bacba5a6",
   "metadata": {},
   "source": [
    "# 7. Contoh Implementasi Visualisasi Data dengan Matplotlib\n",
    "## 7.1 Contoh 1: Plot Garis\n"
   ]
  },
  {
   "cell_type": "code",
   "execution_count": null,
   "id": "99551428",
   "metadata": {},
   "outputs": [],
   "source": [
    "import matplotlib.pyplot as plt\n",
    "# Data\n",
    "x = [1, 2, 3, 4, 5]\n",
    "y = [2, 4, 6, 8, 10]\n",
    "# Membuat plot garis\n",
    "plt.plot(x, y)\n",
    "# Menampilkan plot\n",
    "plt.show()"
   ]
  },
  {
   "cell_type": "markdown",
   "id": "aad56d11",
   "metadata": {},
   "source": [
    "## 7.2 Contoh 2: Scatter Plot"
   ]
  },
  {
   "cell_type": "code",
   "execution_count": null,
   "id": "f06a6f9e",
   "metadata": {},
   "outputs": [],
   "source": [
    "import matplotlib.pyplot as plt\n",
    "\n",
    "x = [2, 4, 1, 6, 8, 3, 5, 7, 9, 4, 6, 8]  # Jam belajar per hari\n",
    "y = [65, 75, 50, 85, 92, 68, 78, 88, 95, 72, 82, 90]  # Nilai ujian\n",
    "# Membuat scatter plot\n",
    "plt.scatter(x, y)\n",
    "# Menampilkan plot\n",
    "plt.show()"
   ]
  },
  {
   "cell_type": "markdown",
   "id": "9b0556b8",
   "metadata": {},
   "source": [
    "## 7.3 Contoh 3: Bar Plot"
   ]
  },
  {
   "cell_type": "code",
   "execution_count": null,
   "id": "dcd1f6a5",
   "metadata": {},
   "outputs": [],
   "source": [
    "# Data - Penjualan produk per kategori\n",
    "kategori = ['Elektronik', 'Pakaian', 'Makanan', 'Buku', 'Olahraga']\n",
    "penjualan = [150, 120, 200, 80, 95]  # Dalam juta rupiah\n",
    "\n",
    "# Membuat bar plot\n",
    "plt.bar(kategori, penjualan, color=['blue', 'green', 'red', 'orange', 'purple'])\n",
    "\n",
    "plt.show()\n"
   ]
  },
  {
   "cell_type": "markdown",
   "id": "68bc2d92",
   "metadata": {},
   "source": [
    "## 7.4 Contoh 4: Histogram"
   ]
  },
  {
   "cell_type": "code",
   "execution_count": null,
   "id": "6e04941d",
   "metadata": {},
   "outputs": [],
   "source": [
    "plt.hist(penjualan, bins=5, color='skyblue', edgecolor='black')\n",
    "plt.show"
   ]
  },
  {
   "cell_type": "markdown",
   "id": "bbf1790a",
   "metadata": {},
   "source": [
    "## 7.5 Contoh 5: Pie Chart"
   ]
  },
  {
   "cell_type": "code",
   "execution_count": null,
   "id": "d09b448a",
   "metadata": {},
   "outputs": [],
   "source": [
    "pie = plt.pie(penjualan, labels=kategori)\n",
    "plt.show(pie)"
   ]
  },
  {
   "cell_type": "markdown",
   "id": "194a55a8",
   "metadata": {},
   "source": [
    "# Cara membuat bloxpot"
   ]
  },
  {
   "cell_type": "code",
   "execution_count": null,
   "id": "e4356933",
   "metadata": {},
   "outputs": [],
   "source": [
    "import pandas as pd \n",
    "import matplotlib.pyplot as plt\n",
    "import seaborn as sns\n",
    "penguins = sns.load_dataset(\"penguins\")\n",
    "penguins.info()"
   ]
  },
  {
   "cell_type": "markdown",
   "id": "677fd41c",
   "metadata": {},
   "source": [
    "## Bloxpot tunggal"
   ]
  },
  {
   "cell_type": "code",
   "execution_count": null,
   "id": "e65ec4a2",
   "metadata": {},
   "outputs": [],
   "source": [
    "# Cara membuat bloxpot\n",
    "penguins = sns.load_dataset(\"penguins\")\n",
    "penguins.info()\n",
    "sns.boxplot(x=penguins['bill_length_mm'], palette='Set2')"
   ]
  },
  {
   "cell_type": "code",
   "execution_count": null,
   "id": "a25179e2",
   "metadata": {},
   "outputs": [],
   "source": [
    "sns.boxplot(y=penguins['bill_length_mm'])\n"
   ]
  },
  {
   "cell_type": "markdown",
   "id": "9a99bf21",
   "metadata": {},
   "source": [
    "## Boxplot dengan Beberapa Kategori"
   ]
  },
  {
   "cell_type": "code",
   "execution_count": null,
   "id": "6db6978f",
   "metadata": {},
   "outputs": [],
   "source": [
    "sns.boxplot(x=penguins[\"species\"], y=penguins['bill_length_mm'], palette='Set2')\n"
   ]
  },
  {
   "cell_type": "markdown",
   "id": "3beefe69",
   "metadata": {},
   "source": [
    "## Pengaturan Warna"
   ]
  },
  {
   "cell_type": "code",
   "execution_count": null,
   "id": "46e1da0c",
   "metadata": {},
   "outputs": [],
   "source": [
    "sns.boxplot(data=penguins, x=\"species\", y='bill_length_mm', palette=\"bright\")"
   ]
  },
  {
   "cell_type": "code",
   "execution_count": null,
   "id": "6d027282",
   "metadata": {},
   "outputs": [],
   "source": [
    "custom_pal = {\"Adelie\": \"#9A0EEA\", \"Chinstrap\": \"beige\", \"Gentoo\":\"c\"}\n",
    "sns.boxplot(data=penguins, x=\"species\", y='bill_length_mm', palette=custom_pal)"
   ]
  },
  {
   "cell_type": "markdown",
   "id": "b579dfe6",
   "metadata": {},
   "source": [
    "## Pengaturan Ukuran dan Bentuk Boxplot"
   ]
  },
  {
   "cell_type": "code",
   "execution_count": null,
   "id": "600d25b3",
   "metadata": {},
   "outputs": [],
   "source": [
    "custom_pal = {\"Adelie\": \"#0C844C\", \"Chinstrap\": \"beige\", \"Gentoo\":\"c\"}\n",
    "sns.boxplot(data=penguins,\n",
    "            x=\"species\", y='bill_length_mm',\n",
    "            palette=custom_pal,\n",
    "            linewidth=0.7,\n",
    "            width=0.6)"
   ]
  },
  {
   "cell_type": "code",
   "execution_count": null,
   "id": "6045c450",
   "metadata": {},
   "outputs": [],
   "source": [
    "custom_pal = {\"Adelie\": \"#0E20EA\", \"Chinstrap\": \"beige\", \"Gentoo\":\"c\"}\n",
    "sns.boxplot(data=penguins,\n",
    "            x=\"species\", y='bill_length_mm',\n",
    "            palette=custom_pal,\n",
    "            linewidth=0.7,\n",
    "            width=0.4,\n",
    "            notch=True,\n",
    "            fliersize=10,\n",
    "            flierprops={\"marker\": \"o\"})"
   ]
  },
  {
   "cell_type": "code",
   "execution_count": null,
   "id": "c272ecd1",
   "metadata": {},
   "outputs": [],
   "source": [
    "# Mengatur ukuran frame\n",
    "plt.figure(figsize=(8, 6))\n",
    "sns.boxplot(data=penguins,\n",
    "            x=\"species\", y='bill_length_mm', hue=\"sex\",\n",
    "            palette=\"bright\",\n",
    "            linewidth=0.8,\n",
    "            width=0.5,\n",
    "            fliersize=3,\n",
    "            flierprops={\"marker\": \"o\"})\n",
    "plt.legend(bbox_to_anchor=(1, 0.6), loc=2, borderaxespad=1)"
   ]
  },
  {
   "cell_type": "markdown",
   "id": "c0cfd496",
   "metadata": {},
   "source": [
    "## Menampilkan Beberapa Diagram dalam Satu Frame"
   ]
  },
  {
   "cell_type": "code",
   "execution_count": null,
   "id": "933be900",
   "metadata": {},
   "outputs": [],
   "source": [
    "# menyiapkan frame 1 baris dan 2 kolom (untuk 2 diagram)\n",
    "fig, axes = plt.subplots(nrows=1, ncols=2, figsize=(8, 4), sharey=False)\n",
    "sns.boxplot(data=penguins, x=\"species\", y='bill_length_mm', width=0.6, ax=axes[0])\n",
    "sns.boxplot(data=penguins, x=\"species\", y='bill_depth_mm', width=0.6, ax=axes[1])\n",
    "fig.tight_layout()"
   ]
  },
  {
   "cell_type": "code",
   "execution_count": null,
   "id": "4086dc43",
   "metadata": {},
   "outputs": [],
   "source": [
    "fig, axes = plt.subplots(2, 2, figsize=(8, 6), sharex=False)\n",
    "sns.boxplot(data=penguins, x=\"species\", y='bill_length_mm', width=0.6, ax=axes[0, 0])\n",
    "sns.boxplot(data=penguins, x=\"species\", y='bill_depth_mm', width=0.6, ax=axes[0, 1])\n",
    "sns.boxplot(data=penguins, x=\"species\", y='flipper_length_mm', width=0.6, ax=axes[1, 0])\n",
    "sns.boxplot(data=penguins, x=\"species\", y='body_mass_g', width=0.6, ax=axes[1, 1])\n",
    "fig.tight_layout()"
   ]
  },
  {
   "cell_type": "code",
   "execution_count": null,
   "id": "5d918b94",
   "metadata": {},
   "outputs": [],
   "source": [
    "fig, axes = plt.subplots(2, 2, figsize=(8, 6), sharex=False)\n",
    "p1 = sns.boxplot(data=penguins, x=\"species\", y='bill_length_mm', width=0.6, ax=axes[0, 0])\n",
    "p2 = sns.boxplot(data=penguins, x=\"species\", y='bill_depth_mm', width=0.6, ax=axes[0, 1])\n",
    "p3 = sns.boxplot(data=penguins, x=\"species\", y='flipper_length_mm', width=0.6, ax=axes[1, 0])\n",
    "p4 = sns.boxplot(data=penguins, x=\"species\", y='body_mass_g', width=0.6, ax=axes[1, 1])\n",
    "\n",
    "plot = [p1, p2, p3, p4]\n",
    "\n",
    "label = [\"Bill Length (mm)\", \"Bill Depth (mm)\", \"Flipper Length (mm)\", \"Body Mass (g)\"]\n",
    "# untuk setiap diagram, hapus label pada sumbu x dan y\n",
    "# dan set judul diagram yang sesuai\n",
    "for i in range(0, 4):\n",
    "    plot[i].set(ylabel=None, xlabel=None)\n",
    "    plot[i].axes.set_title(label[i], fontsize=11)\n",
    "\n",
    "fig.tight_layout()"
   ]
  },
  {
   "cell_type": "code",
   "execution_count": null,
   "id": "b6671a6c",
   "metadata": {},
   "outputs": [],
   "source": [
    "import pandas as pd\n",
    "import matplotlib.pyplot as plt\n",
    "import seaborn as sns   \n",
    "import numpy as np"
   ]
  },
  {
   "cell_type": "code",
   "execution_count": null,
   "id": "27013163",
   "metadata": {},
   "outputs": [],
   "source": [
    "data = pd.read_csv(\"Saham.csv\", delimiter=\",\")\n",
    "pd.DataFrame(data)"
   ]
  },
  {
   "cell_type": "code",
   "execution_count": null,
   "id": "d42fa611",
   "metadata": {},
   "outputs": [],
   "source": [
    "data.info()"
   ]
  },
  {
   "cell_type": "code",
   "execution_count": null,
   "id": "17968bdc",
   "metadata": {},
   "outputs": [],
   "source": [
    "plt.figure(figsize=(10, 6))\n",
    "sns.lineplot(data=data, x= \"Date\", y=\"bbri_price_rp\", label=\"BBRI\", color=\"blue\")"
   ]
  },
  {
   "cell_type": "code",
   "execution_count": null,
   "id": "4dfc1575",
   "metadata": {},
   "outputs": [],
   "source": [
    "plt.figure(figsize=(10, 6))\n",
    "sns.lineplot(data=data, x= \"Date\", y=\"bmri_price_rp\", label=\"BMRI\", color=\"orange\")"
   ]
  },
  {
   "cell_type": "code",
   "execution_count": null,
   "id": "dcf31b45",
   "metadata": {},
   "outputs": [],
   "source": [
    "plt.figure(figsize=(10, 6))\n",
    "sns.lineplot(data=data, x= \"Date\", y=\"bbni_price_rp\", label=\"BBNI\", color=\"Green\")"
   ]
  },
  {
   "cell_type": "code",
   "execution_count": null,
   "id": "12ac5a2e",
   "metadata": {},
   "outputs": [],
   "source": [
    "plt.figure(figsize=(12, 6))\n",
    "sns.lineplot(x = 'Date', y = 'bbri_price_rp', data=data)\n",
    "sns.lineplot(x = 'Date', y = 'bmri_price_rp', data=data)\n",
    "sns.lineplot(x = 'Date', y = 'bbni_price_rp', data=data)\n",
    "plt.legend(labels=['BBRI','BMRI', 'BBNI'])\n",
    "\n",
    "plt.show()"
   ]
  },
  {
   "cell_type": "code",
   "execution_count": 85,
   "id": "e31b57b8",
   "metadata": {},
   "outputs": [
    {
     "data": {
      "text/html": [
       "<div>\n",
       "<style scoped>\n",
       "    .dataframe tbody tr th:only-of-type {\n",
       "        vertical-align: middle;\n",
       "    }\n",
       "\n",
       "    .dataframe tbody tr th {\n",
       "        vertical-align: top;\n",
       "    }\n",
       "\n",
       "    .dataframe thead th {\n",
       "        text-align: right;\n",
       "    }\n",
       "</style>\n",
       "<table border=\"1\" class=\"dataframe\">\n",
       "  <thead>\n",
       "    <tr style=\"text-align: right;\">\n",
       "      <th></th>\n",
       "      <th>Date</th>\n",
       "      <th>Stock</th>\n",
       "      <th>Price</th>\n",
       "    </tr>\n",
       "  </thead>\n",
       "  <tbody>\n",
       "    <tr>\n",
       "      <th>0</th>\n",
       "      <td>2020-01-31</td>\n",
       "      <td>BBRI</td>\n",
       "      <td>4200.0</td>\n",
       "    </tr>\n",
       "    <tr>\n",
       "      <th>1</th>\n",
       "      <td>2020-02-29</td>\n",
       "      <td>BBRI</td>\n",
       "      <td>3972.0</td>\n",
       "    </tr>\n",
       "    <tr>\n",
       "      <th>2</th>\n",
       "      <td>2020-03-31</td>\n",
       "      <td>BBRI</td>\n",
       "      <td>3771.0</td>\n",
       "    </tr>\n",
       "    <tr>\n",
       "      <th>3</th>\n",
       "      <td>2020-04-30</td>\n",
       "      <td>BBRI</td>\n",
       "      <td>3542.0</td>\n",
       "    </tr>\n",
       "    <tr>\n",
       "      <th>4</th>\n",
       "      <td>2020-05-31</td>\n",
       "      <td>BBRI</td>\n",
       "      <td>3410.0</td>\n",
       "    </tr>\n",
       "    <tr>\n",
       "      <th>...</th>\n",
       "      <td>...</td>\n",
       "      <td>...</td>\n",
       "      <td>...</td>\n",
       "    </tr>\n",
       "    <tr>\n",
       "      <th>175</th>\n",
       "      <td>2024-08-31</td>\n",
       "      <td>BBNI</td>\n",
       "      <td>7475.0</td>\n",
       "    </tr>\n",
       "    <tr>\n",
       "      <th>176</th>\n",
       "      <td>2024-09-30</td>\n",
       "      <td>BBNI</td>\n",
       "      <td>7594.0</td>\n",
       "    </tr>\n",
       "    <tr>\n",
       "      <th>177</th>\n",
       "      <td>2024-10-31</td>\n",
       "      <td>BBNI</td>\n",
       "      <td>7050.0</td>\n",
       "    </tr>\n",
       "    <tr>\n",
       "      <th>178</th>\n",
       "      <td>2024-11-30</td>\n",
       "      <td>BBNI</td>\n",
       "      <td>7372.0</td>\n",
       "    </tr>\n",
       "    <tr>\n",
       "      <th>179</th>\n",
       "      <td>2024-12-31</td>\n",
       "      <td>BBNI</td>\n",
       "      <td>7967.0</td>\n",
       "    </tr>\n",
       "  </tbody>\n",
       "</table>\n",
       "<p>180 rows × 3 columns</p>\n",
       "</div>"
      ],
      "text/plain": [
       "           Date Stock   Price\n",
       "0    2020-01-31  BBRI  4200.0\n",
       "1    2020-02-29  BBRI  3972.0\n",
       "2    2020-03-31  BBRI  3771.0\n",
       "3    2020-04-30  BBRI  3542.0\n",
       "4    2020-05-31  BBRI  3410.0\n",
       "..          ...   ...     ...\n",
       "175  2024-08-31  BBNI  7475.0\n",
       "176  2024-09-30  BBNI  7594.0\n",
       "177  2024-10-31  BBNI  7050.0\n",
       "178  2024-11-30  BBNI  7372.0\n",
       "179  2024-12-31  BBNI  7967.0\n",
       "\n",
       "[180 rows x 3 columns]"
      ]
     },
     "execution_count": 85,
     "metadata": {},
     "output_type": "execute_result"
    }
   ],
   "source": [
    "df = pd.read_csv(\"Data_saham.csv\", delimiter=\",\")\n",
    "pd.DataFrame(df)"
   ]
  },
  {
   "cell_type": "code",
   "execution_count": null,
   "id": "beb2ab87",
   "metadata": {},
   "outputs": [],
   "source": [
    "# Filter data untuk emiten BBNI\n",
    "data_BBRI = df[df[\"Stock\"] == \"BBRI\"]\n",
    "plt.figure(figsize=(12, 6))\n",
    "sns.lineplot(data=data_BBRI, x='Date', y='Price',\n",
    "             color=\"#0E9137\", lw=2)\n",
    "plt.show()"
   ]
  },
  {
   "cell_type": "code",
   "execution_count": null,
   "id": "4ca9b240",
   "metadata": {},
   "outputs": [],
   "source": [
    "fig, ax = plt.subplots(figsize = ( 12 , 6 ))\n",
    "sns.lineplot(data=data_BBRI, x='Date', y='Price',\n",
    "             color=\"#610EA5\", lw=2)\n",
    "# Set x-axis label\n",
    "ax.set_xlabel( \"Periode\" , size = 12)\n",
    "# Set y-axis label\n",
    "ax.set_ylabel( \"Harga (Rupiah)\" , size = 12)\n",
    "# Set judul\n",
    "ax.set_title( \"Pergerakan Harga Saham Bank BNI (BBRI) Tahun 2021\" ,\n",
    "                size=16,\n",
    "                color=\"#0D5369\")\n",
    "plt.show()"
   ]
  },
  {
   "cell_type": "code",
   "execution_count": null,
   "id": "6ebf8d90",
   "metadata": {},
   "outputs": [],
   "source": [
    "plt.figure(figsize=(12, 6))\n",
    "sns.lineplot(data=df, x='Date', y='Price', hue=\"Stock\")\n",
    "plt.show()"
   ]
  },
  {
   "cell_type": "markdown",
   "id": "69d9a9e9",
   "metadata": {},
   "source": [
    "## Membatasi Nilai Axis (Sumbu X dan Y)\n"
   ]
  },
  {
   "cell_type": "code",
   "execution_count": 89,
   "id": "47f3e22a",
   "metadata": {},
   "outputs": [
    {
     "data": {
      "image/png": "[encoded data removed]",
      "text/plain": [
       "<Figure size 1200x600 with 1 Axes>"
      ]
     },
     "metadata": {},
     "output_type": "display_data"
    }
   ],
   "source": [
    "import matplotlib.pyplot as plt\n",
    "import seaborn as sns\n",
    "import pandas as pd\n",
    "\n",
    "# saya ubah Date ke datetime mengunakan pandas\n",
    "df[\"Date\"] = pd.to_datetime(df[\"Date\"])\n",
    "mask = (df[\"Date\"] >= \"2023-11-01\") & (df[\"Date\"] <= \"2024-12-31\")\n",
    "subset = df[mask]\n",
    "plt.figure(figsize=(12, 6))\n",
    "cust_palette = [\"#640303\", \"orange\", \"c\"]\n",
    "sns.lineplot(\n",
    "    data=subset,\n",
    "    x=\"Date\", y=\"Price\",\n",
    "    hue=\"Stock\",\n",
    "    palette=cust_palette,\n",
    "    lw=2,\n",
    "    marker=\"o\"\n",
    ")\n",
    "plt.title(\"Harga Saham (Nov 2023 Des 2024)\")\n",
    "plt.xlabel(\"Tanggal\")\n",
    "plt.ylabel(\"Harga (Rp)\")\n",
    "plt.show()\n"
   ]
  },
  {
   "cell_type": "code",
   "execution_count": 94,
   "id": "679c7d8c",
   "metadata": {},
   "outputs": [
    {
     "data": {
      "image/png": "[encoded data removed]",
      "text/plain": [
       "<Figure size 1200x600 with 1 Axes>"
      ]
     },
     "metadata": {},
     "output_type": "display_data"
    }
   ],
   "source": [
    "import seaborn as sns\n",
    "import matplotlib.pyplot as plt\n",
    "import pandas as pd\n",
    "from datetime import date\n",
    "plt.figure(figsize=(12, 6))\n",
    "cust_palette = {\"BBRI\": \"#640303\", \"BMRI\": \"orange\", \"BBNI\": \"c\"}\n",
    "ax = sns.lineplot(\n",
    "    data=df,\n",
    "    x='Date', y='Price',\n",
    "    hue=\"Stock\",\n",
    "    linewidth=1.5,\n",
    "    legend=False,\n",
    "    palette=cust_palette\n",
    ")\n",
    "\n",
    "mid_q1 = pd.Timestamp(date(2021, 2, 15))\n",
    "ax.text(x=mid_q1, y=7750, s=\"Q1\",  fontsize=13, color=\"#0D5E24\")\n",
    "mid_q2 = pd.Timestamp(date(2021, 5, 15))\n",
    "ax.text(x=mid_q2, y=7750, s=\"Q2\", fontsize=13, color=\"#850707\")\n",
    "mid_q3 = pd.Timestamp(date(2021, 8, 15))\n",
    "ax.text(x=mid_q3, y=7750, s=\"Q3\", fontsize=13, color=\"#157961\")\n",
    "mid_q4 = pd.Timestamp(date(2021, 11, 15))\n",
    "ax.text(x=mid_q4, y=7750, s=\"Q4\", fontsize=13, color=\"#3B7D0E\")\n",
    "\n",
    "ax.text(pd.Timestamp(date(2022, 1, 2)), 4100, \"BBRI\", color=cust_palette[\"BBRI\"])\n",
    "ax.text(pd.Timestamp(date(2022, 1, 2)), 6700, \"BBNI\", color=cust_palette[\"BBNI\"])\n",
    "ax.text(pd.Timestamp(date(2022, 1, 2)), 7000, \"BMRI\", color=cust_palette[\"BMRI\"])\n",
    "\n",
    "start_date = pd.Timestamp(date(2021, 1, 4))\n",
    "end_date   = pd.Timestamp(date(2021, 12, 31))\n",
    "plt.xlim(start_date, end_date)\n",
    "\n",
    "plt.ylim(3000, 20000)\n",
    "plt.xlabel(\"Tanggal\", fontsize=12)\n",
    "plt.ylabel(\"Harga (Rp)\", fontsize=12)\n",
    "\n",
    "plt.title(\"Harga Saham per Kuartal (2021)\")\n",
    "plt.show()\n"
   ]
  },
  {
   "cell_type": "code",
   "execution_count": 90,
   "id": "734dd256",
   "metadata": {},
   "outputs": [
    {
     "data": {
      "text/html": [
       "<div>\n",
       "<style scoped>\n",
       "    .dataframe tbody tr th:only-of-type {\n",
       "        vertical-align: middle;\n",
       "    }\n",
       "\n",
       "    .dataframe tbody tr th {\n",
       "        vertical-align: top;\n",
       "    }\n",
       "\n",
       "    .dataframe thead th {\n",
       "        text-align: right;\n",
       "    }\n",
       "</style>\n",
       "<table border=\"1\" class=\"dataframe\">\n",
       "  <thead>\n",
       "    <tr style=\"text-align: right;\">\n",
       "      <th></th>\n",
       "      <th>Date</th>\n",
       "      <th>Stock</th>\n",
       "      <th>Price</th>\n",
       "    </tr>\n",
       "  </thead>\n",
       "  <tbody>\n",
       "    <tr>\n",
       "      <th>0</th>\n",
       "      <td>2020-01-31</td>\n",
       "      <td>BBRI</td>\n",
       "      <td>4200.0</td>\n",
       "    </tr>\n",
       "    <tr>\n",
       "      <th>1</th>\n",
       "      <td>2020-02-29</td>\n",
       "      <td>BBRI</td>\n",
       "      <td>3972.0</td>\n",
       "    </tr>\n",
       "    <tr>\n",
       "      <th>2</th>\n",
       "      <td>2020-03-31</td>\n",
       "      <td>BBRI</td>\n",
       "      <td>3771.0</td>\n",
       "    </tr>\n",
       "    <tr>\n",
       "      <th>3</th>\n",
       "      <td>2020-04-30</td>\n",
       "      <td>BBRI</td>\n",
       "      <td>3542.0</td>\n",
       "    </tr>\n",
       "    <tr>\n",
       "      <th>4</th>\n",
       "      <td>2020-05-31</td>\n",
       "      <td>BBRI</td>\n",
       "      <td>3410.0</td>\n",
       "    </tr>\n",
       "    <tr>\n",
       "      <th>...</th>\n",
       "      <td>...</td>\n",
       "      <td>...</td>\n",
       "      <td>...</td>\n",
       "    </tr>\n",
       "    <tr>\n",
       "      <th>175</th>\n",
       "      <td>2024-08-31</td>\n",
       "      <td>BBNI</td>\n",
       "      <td>7475.0</td>\n",
       "    </tr>\n",
       "    <tr>\n",
       "      <th>176</th>\n",
       "      <td>2024-09-30</td>\n",
       "      <td>BBNI</td>\n",
       "      <td>7594.0</td>\n",
       "    </tr>\n",
       "    <tr>\n",
       "      <th>177</th>\n",
       "      <td>2024-10-31</td>\n",
       "      <td>BBNI</td>\n",
       "      <td>7050.0</td>\n",
       "    </tr>\n",
       "    <tr>\n",
       "      <th>178</th>\n",
       "      <td>2024-11-30</td>\n",
       "      <td>BBNI</td>\n",
       "      <td>7372.0</td>\n",
       "    </tr>\n",
       "    <tr>\n",
       "      <th>179</th>\n",
       "      <td>2024-12-31</td>\n",
       "      <td>BBNI</td>\n",
       "      <td>7967.0</td>\n",
       "    </tr>\n",
       "  </tbody>\n",
       "</table>\n",
       "<p>180 rows × 3 columns</p>\n",
       "</div>"
      ],
      "text/plain": [
       "          Date Stock   Price\n",
       "0   2020-01-31  BBRI  4200.0\n",
       "1   2020-02-29  BBRI  3972.0\n",
       "2   2020-03-31  BBRI  3771.0\n",
       "3   2020-04-30  BBRI  3542.0\n",
       "4   2020-05-31  BBRI  3410.0\n",
       "..         ...   ...     ...\n",
       "175 2024-08-31  BBNI  7475.0\n",
       "176 2024-09-30  BBNI  7594.0\n",
       "177 2024-10-31  BBNI  7050.0\n",
       "178 2024-11-30  BBNI  7372.0\n",
       "179 2024-12-31  BBNI  7967.0\n",
       "\n",
       "[180 rows x 3 columns]"
      ]
     },
     "execution_count": 90,
     "metadata": {},
     "output_type": "execute_result"
    }
   ],
   "source": [
    "pd.DataFrame(df)"
   ]
  }
 ],
 "metadata": {
  "kernelspec": {
   "display_name": "Python 3",
   "language": "python",
   "name": "python3"
  },
  "language_info": {
   "codemirror_mode": {
    "name": "ipython",
    "version": 3
   },
   "file_extension": ".py",
   "mimetype": "text/x-python",
   "name": "python",
   "nbconvert_exporter": "python",
   "pygments_lexer": "ipython3",
   "version": "3.13.2"
  }
 },
 "nbformat": 4,
 "nbformat_minor": 5
}
